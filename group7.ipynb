{
 "cells": [
  {
   "cell_type": "markdown",
   "metadata": {},
   "source": [
    "# The Boolean Pandemic\n",
    "## Who is more likely to survive to the boolean pandemic?"
   ]
  },
  {
   "cell_type": "markdown",
   "metadata": {},
   "source": [
    "# Overview\n",
    "On January 1st, 2020, an epidemy was originated in Albuquerque, in New Mexico state, and spread on the following days to Santa Fe and Taos. It is estimated that the epidemy has already affected more than 1000 people at the end of February, with a mortality rate of more than 50%.\n",
    "While the conditions of the transmission of the virus is still unknown and there are no certainties of what leads a patient to survive or not to the virus, it seems there are some groups of people more prone to survive than others.\n",
    "In this challenge, your goal is to build a **predictive model that answers the question “What are the people more likely to survive to the boolean pandemic?”** using the small quantity of data accessible of the patients – name, birthday date, severity of the disease, money of expenses associated to the treatment of each family, city and others.\n",
    "As data scientists, your team is asked to analyze and transform as needed the data available and apply different models in order to answer in the more accurate way the defined question. Are you able to design a model that can **predict if a patient will survive, or not**, to the boolean pandemic?\n",
    "\n",
    "# Objective\n",
    "The goal of your team is to predict if a patient is going to survive, or not, on the test set by using the model you created on the training set. The score of your predictions is the percentage of instances you correctly predict, using the **accuracy**. You are allowed to apply any kind of classifier!\n",
    "\n",
    "# Evaluation\n",
    "The project will be evaluated taking into account the following criteria:\n",
    "- Model accuracy;\n",
    "- The quality of the data exploration, pre-processing, modelling and assessment steps;\n",
    "- Contributions based on self-study and creativity will be valued;\n",
    "- The notebook structure and the conclusions / insights / review / justification of techniques of the developed processes in each of the stages of the process. For example, after the data exploration phase, you should write down at the end of this topic in markdown the main insights that you gather from the data during this phase.\n",
    "\n",
    "# Deliverables\n",
    "You should submit a csv file with the number of instances in the test set, containing the columns [Patient_ID, Deceased], and only those columns. The Deceased column should contain the prediction (“0” or “1”). Your last solution (the Jupiter notebook) should be submitted on Moodle.\n",
    "\n",
    "# Metadata (corrected)\n",
    "- *Patient_ID* - The unique identifier of the patient\n",
    "- *Family_Case_ID* - The family identification\n",
    "- *Severity* - The severity of the disease, where 1 is the lowest and 3 the highest severity\n",
    "- *Name* - The name of the patient\n",
    "- *Birthday_year* - The year of birthday of the patient\n",
    "- *Parents_Children_Infected* - The number of parents and/or children infected\n",
    "- *Partner_Siblings_Infected* - The number of partner and/or siblings infected\n",
    "- *Medical_Expenses_Family* - The medical expenses associated to try to contain the epidemy on the family\n",
    "- *Medical_Tent* - The medical tent where the patient is / was lodged\n",
    "- *City* - The original city of the patient\n",
    "- *Deceased* - Flag if the patient deceased or not with the virus (0 = No, 1 = Yes)"
   ]
  },
  {
   "cell_type": "markdown",
   "metadata": {},
   "source": [
    "# Import Packages and Data"
   ]
  },
  {
   "cell_type": "code",
   "execution_count": 45,
   "metadata": {},
   "outputs": [],
   "source": [
    "import zipfile as zp\n",
    "from math import ceil\n",
    "import pandas as pd\n",
    "import numpy as np\n",
    "import matplotlib.pyplot as plt\n",
    "import seaborn as sns\n",
    "from sklearn.preprocessing import OneHotEncoder, StandardScaler, MinMaxScaler\n",
    "from sklearn.impute import SimpleImputer, KNNImputer\n",
    "from sklearn.linear_model import LogisticRegression\n",
    "from sklearn.neighbors import KNeighborsClassifier, NeighborhoodComponentsAnalysis\n",
    "from sklearn.naive_bayes import GaussianNB\n",
    "from sklearn.pipeline import Pipeline\n",
    "from sklearn.compose import ColumnTransformer\n",
    "from sklearn.model_selection import train_test_split, StratifiedKFold, GridSearchCV, cross_val_score, GroupShuffleSplit\n",
    "from sklearn.metrics import classification_report, confusion_matrix"
   ]
  },
  {
   "cell_type": "code",
   "execution_count": 46,
   "metadata": {},
   "outputs": [],
   "source": [
    "df_list = []\n",
    "for file in [\"train.csv\", \"test.csv\"]:\n",
    "    with zp.ZipFile(\"./data.zip\") as myzip:\n",
    "        with myzip.open(file) as myfile:\n",
    "            df_list.append(pd.read_csv(myfile))\n",
    "            \n",
    "train_df, test_df = df_list"
   ]
  },
  {
   "cell_type": "markdown",
   "metadata": {},
   "source": [
    "# Data Assessment"
   ]
  },
  {
   "cell_type": "code",
   "execution_count": 47,
   "metadata": {},
   "outputs": [
    {
     "data": {
      "text/plain": [
       "((900, 11), (400, 10))"
      ]
     },
     "execution_count": 47,
     "metadata": {},
     "output_type": "execute_result"
    }
   ],
   "source": [
    "train_df.shape, test_df.shape"
   ]
  },
  {
   "cell_type": "code",
   "execution_count": 48,
   "metadata": {},
   "outputs": [],
   "source": [
    "train_df.rename({\"Parents or siblings infected\": \"Parents_Children_Infected\", \"Wife/Husband or children infected\": \"Partner_Siblings_Infected\"}, axis=1, inplace=True)\n",
    "test_df.rename({\"Parents or siblings infected\": \"Parents_Children_Infected\", \"Wife/Husband or children infected\": \"Partner_Siblings_Infected\"}, axis=1, inplace=True)"
   ]
  },
  {
   "cell_type": "code",
   "execution_count": 49,
   "metadata": {},
   "outputs": [
    {
     "data": {
      "text/html": [
       "<div>\n",
       "<style scoped>\n",
       "    .dataframe tbody tr th:only-of-type {\n",
       "        vertical-align: middle;\n",
       "    }\n",
       "\n",
       "    .dataframe tbody tr th {\n",
       "        vertical-align: top;\n",
       "    }\n",
       "\n",
       "    .dataframe thead th {\n",
       "        text-align: right;\n",
       "    }\n",
       "</style>\n",
       "<table border=\"1\" class=\"dataframe\">\n",
       "  <thead>\n",
       "    <tr style=\"text-align: right;\">\n",
       "      <th></th>\n",
       "      <th>Patient_ID</th>\n",
       "      <th>Family_Case_ID</th>\n",
       "      <th>Severity</th>\n",
       "      <th>Name</th>\n",
       "      <th>Birthday_year</th>\n",
       "      <th>Parents_Children_Infected</th>\n",
       "      <th>Partner_Siblings_Infected</th>\n",
       "      <th>Medical_Expenses_Family</th>\n",
       "      <th>Medical_Tent</th>\n",
       "      <th>City</th>\n",
       "      <th>Deceased</th>\n",
       "    </tr>\n",
       "  </thead>\n",
       "  <tbody>\n",
       "    <tr>\n",
       "      <th>0</th>\n",
       "      <td>1</td>\n",
       "      <td>4696</td>\n",
       "      <td>3</td>\n",
       "      <td>Miss Linda Betty</td>\n",
       "      <td>NaN</td>\n",
       "      <td>0</td>\n",
       "      <td>0</td>\n",
       "      <td>225</td>\n",
       "      <td>NaN</td>\n",
       "      <td>Santa Fe</td>\n",
       "      <td>1</td>\n",
       "    </tr>\n",
       "    <tr>\n",
       "      <th>1</th>\n",
       "      <td>2</td>\n",
       "      <td>21436</td>\n",
       "      <td>1</td>\n",
       "      <td>Ms. Ramona Elvira</td>\n",
       "      <td>1966.0</td>\n",
       "      <td>0</td>\n",
       "      <td>1</td>\n",
       "      <td>1663</td>\n",
       "      <td>NaN</td>\n",
       "      <td>Albuquerque</td>\n",
       "      <td>0</td>\n",
       "    </tr>\n",
       "    <tr>\n",
       "      <th>2</th>\n",
       "      <td>3</td>\n",
       "      <td>7273</td>\n",
       "      <td>3</td>\n",
       "      <td>Mr. Mario Vernon</td>\n",
       "      <td>1982.0</td>\n",
       "      <td>0</td>\n",
       "      <td>0</td>\n",
       "      <td>221</td>\n",
       "      <td>NaN</td>\n",
       "      <td>Santa Fe</td>\n",
       "      <td>1</td>\n",
       "    </tr>\n",
       "    <tr>\n",
       "      <th>3</th>\n",
       "      <td>4</td>\n",
       "      <td>8226</td>\n",
       "      <td>3</td>\n",
       "      <td>Mr. Hector Joe</td>\n",
       "      <td>1997.0</td>\n",
       "      <td>0</td>\n",
       "      <td>0</td>\n",
       "      <td>220</td>\n",
       "      <td>NaN</td>\n",
       "      <td>Santa Fe</td>\n",
       "      <td>1</td>\n",
       "    </tr>\n",
       "    <tr>\n",
       "      <th>4</th>\n",
       "      <td>5</td>\n",
       "      <td>19689</td>\n",
       "      <td>3</td>\n",
       "      <td>Ms. Jennie Debra</td>\n",
       "      <td>1994.0</td>\n",
       "      <td>0</td>\n",
       "      <td>0</td>\n",
       "      <td>222</td>\n",
       "      <td>NaN</td>\n",
       "      <td>Santa Fe</td>\n",
       "      <td>0</td>\n",
       "    </tr>\n",
       "  </tbody>\n",
       "</table>\n",
       "</div>"
      ],
      "text/plain": [
       "   Patient_ID  Family_Case_ID  Severity               Name  Birthday_year  \\\n",
       "0           1            4696         3   Miss Linda Betty            NaN   \n",
       "1           2           21436         1  Ms. Ramona Elvira         1966.0   \n",
       "2           3            7273         3   Mr. Mario Vernon         1982.0   \n",
       "3           4            8226         3     Mr. Hector Joe         1997.0   \n",
       "4           5           19689         3   Ms. Jennie Debra         1994.0   \n",
       "\n",
       "   Parents_Children_Infected  Partner_Siblings_Infected  \\\n",
       "0                          0                          0   \n",
       "1                          0                          1   \n",
       "2                          0                          0   \n",
       "3                          0                          0   \n",
       "4                          0                          0   \n",
       "\n",
       "   Medical_Expenses_Family Medical_Tent         City  Deceased  \n",
       "0                      225          NaN     Santa Fe         1  \n",
       "1                     1663          NaN  Albuquerque         0  \n",
       "2                      221          NaN     Santa Fe         1  \n",
       "3                      220          NaN     Santa Fe         1  \n",
       "4                      222          NaN     Santa Fe         0  "
      ]
     },
     "execution_count": 49,
     "metadata": {},
     "output_type": "execute_result"
    }
   ],
   "source": [
    "train_df.head()"
   ]
  },
  {
   "cell_type": "code",
   "execution_count": 50,
   "metadata": {},
   "outputs": [
    {
     "data": {
      "text/html": [
       "<div>\n",
       "<style scoped>\n",
       "    .dataframe tbody tr th:only-of-type {\n",
       "        vertical-align: middle;\n",
       "    }\n",
       "\n",
       "    .dataframe tbody tr th {\n",
       "        vertical-align: top;\n",
       "    }\n",
       "\n",
       "    .dataframe thead th {\n",
       "        text-align: right;\n",
       "    }\n",
       "</style>\n",
       "<table border=\"1\" class=\"dataframe\">\n",
       "  <thead>\n",
       "    <tr style=\"text-align: right;\">\n",
       "      <th></th>\n",
       "      <th>Patient_ID</th>\n",
       "      <th>Family_Case_ID</th>\n",
       "      <th>Severity</th>\n",
       "      <th>Name</th>\n",
       "      <th>Birthday_year</th>\n",
       "      <th>Parents_Children_Infected</th>\n",
       "      <th>Partner_Siblings_Infected</th>\n",
       "      <th>Medical_Expenses_Family</th>\n",
       "      <th>Medical_Tent</th>\n",
       "      <th>City</th>\n",
       "    </tr>\n",
       "  </thead>\n",
       "  <tbody>\n",
       "    <tr>\n",
       "      <th>0</th>\n",
       "      <td>901</td>\n",
       "      <td>49242</td>\n",
       "      <td>3</td>\n",
       "      <td>Mr. Jody Pedro</td>\n",
       "      <td>NaN</td>\n",
       "      <td>0</td>\n",
       "      <td>0</td>\n",
       "      <td>203</td>\n",
       "      <td>NaN</td>\n",
       "      <td>Santa Fe</td>\n",
       "    </tr>\n",
       "    <tr>\n",
       "      <th>1</th>\n",
       "      <td>902</td>\n",
       "      <td>10400</td>\n",
       "      <td>3</td>\n",
       "      <td>Mr. Kevin Brent</td>\n",
       "      <td>1988.0</td>\n",
       "      <td>0</td>\n",
       "      <td>0</td>\n",
       "      <td>631</td>\n",
       "      <td>NaN</td>\n",
       "      <td>Santa Fe</td>\n",
       "    </tr>\n",
       "    <tr>\n",
       "      <th>2</th>\n",
       "      <td>903</td>\n",
       "      <td>10795</td>\n",
       "      <td>3</td>\n",
       "      <td>Mr. Frankie Cary</td>\n",
       "      <td>1981.0</td>\n",
       "      <td>1</td>\n",
       "      <td>0</td>\n",
       "      <td>376</td>\n",
       "      <td>NaN</td>\n",
       "      <td>Albuquerque</td>\n",
       "    </tr>\n",
       "    <tr>\n",
       "      <th>3</th>\n",
       "      <td>904</td>\n",
       "      <td>62440</td>\n",
       "      <td>3</td>\n",
       "      <td>Mr. Rick Pete</td>\n",
       "      <td>NaN</td>\n",
       "      <td>0</td>\n",
       "      <td>1</td>\n",
       "      <td>405</td>\n",
       "      <td>NaN</td>\n",
       "      <td>Albuquerque</td>\n",
       "    </tr>\n",
       "    <tr>\n",
       "      <th>4</th>\n",
       "      <td>905</td>\n",
       "      <td>81311</td>\n",
       "      <td>2</td>\n",
       "      <td>Mr. Matthew Erick</td>\n",
       "      <td>1996.0</td>\n",
       "      <td>0</td>\n",
       "      <td>0</td>\n",
       "      <td>378</td>\n",
       "      <td>NaN</td>\n",
       "      <td>Santa Fe</td>\n",
       "    </tr>\n",
       "  </tbody>\n",
       "</table>\n",
       "</div>"
      ],
      "text/plain": [
       "   Patient_ID  Family_Case_ID  Severity               Name  Birthday_year  \\\n",
       "0         901           49242         3     Mr. Jody Pedro            NaN   \n",
       "1         902           10400         3    Mr. Kevin Brent         1988.0   \n",
       "2         903           10795         3   Mr. Frankie Cary         1981.0   \n",
       "3         904           62440         3      Mr. Rick Pete            NaN   \n",
       "4         905           81311         2  Mr. Matthew Erick         1996.0   \n",
       "\n",
       "   Parents_Children_Infected  Partner_Siblings_Infected  \\\n",
       "0                          0                          0   \n",
       "1                          0                          0   \n",
       "2                          1                          0   \n",
       "3                          0                          1   \n",
       "4                          0                          0   \n",
       "\n",
       "   Medical_Expenses_Family Medical_Tent         City  \n",
       "0                      203          NaN     Santa Fe  \n",
       "1                      631          NaN     Santa Fe  \n",
       "2                      376          NaN  Albuquerque  \n",
       "3                      405          NaN  Albuquerque  \n",
       "4                      378          NaN     Santa Fe  "
      ]
     },
     "execution_count": 50,
     "metadata": {},
     "output_type": "execute_result"
    }
   ],
   "source": [
    "test_df.head()"
   ]
  },
  {
   "cell_type": "markdown",
   "metadata": {},
   "source": [
    "### Duplicates\n",
    "No duplicates"
   ]
  },
  {
   "cell_type": "code",
   "execution_count": 51,
   "metadata": {},
   "outputs": [
    {
     "data": {
      "text/plain": [
       "(0, 0)"
      ]
     },
     "execution_count": 51,
     "metadata": {},
     "output_type": "execute_result"
    }
   ],
   "source": [
    "# Check duplicates with all columns\n",
    "train_df.duplicated().sum(), test_df.duplicated().sum()"
   ]
  },
  {
   "cell_type": "code",
   "execution_count": 52,
   "metadata": {},
   "outputs": [
    {
     "data": {
      "text/plain": [
       "(0, 0)"
      ]
     },
     "execution_count": 52,
     "metadata": {},
     "output_type": "execute_result"
    }
   ],
   "source": [
    "# Check duplicates excluding Patient_ID\n",
    "train_df.duplicated(subset=train_df.columns[1:]).sum(), test_df.duplicated(subset=test_df.columns[1:]).sum()"
   ]
  },
  {
   "cell_type": "code",
   "execution_count": 53,
   "metadata": {},
   "outputs": [
    {
     "data": {
      "text/plain": [
       "(0, 0)"
      ]
     },
     "execution_count": 53,
     "metadata": {},
     "output_type": "execute_result"
    }
   ],
   "source": [
    "# Check duplicates excluding Patient_id and Family_Case_ID\n",
    "train_df.duplicated(subset=train_df.columns[2:]).sum(), test_df.duplicated(subset=test_df.columns[2:]).sum()"
   ]
  },
  {
   "cell_type": "code",
   "execution_count": 54,
   "metadata": {},
   "outputs": [
    {
     "data": {
      "text/plain": [
       "(0, 0)"
      ]
     },
     "execution_count": 54,
     "metadata": {},
     "output_type": "execute_result"
    }
   ],
   "source": [
    "# Check duplicates excluding Patient_id and Family_Case_ID and City\n",
    "train_df.duplicated(subset=train_df.columns.drop([\"Patient_ID\", \"Family_Case_ID\", \"City\"])).sum(),\\\n",
    "test_df.duplicated(subset=test_df.columns.drop([\"Patient_ID\", \"Family_Case_ID\", \"City\"])).sum()"
   ]
  },
  {
   "cell_type": "markdown",
   "metadata": {},
   "source": [
    "### Index and Data Types"
   ]
  },
  {
   "cell_type": "code",
   "execution_count": 55,
   "metadata": {},
   "outputs": [],
   "source": [
    "train_df.set_index(\"Patient_ID\", inplace=True)\n",
    "test_df.set_index(\"Patient_ID\", inplace=True)"
   ]
  },
  {
   "cell_type": "code",
   "execution_count": 56,
   "metadata": {},
   "outputs": [
    {
     "data": {
      "text/plain": [
       "Family_Case_ID                 int64\n",
       "Severity                       int64\n",
       "Name                          object\n",
       "Birthday_year                float64\n",
       "Parents_Children_Infected      int64\n",
       "Partner_Siblings_Infected      int64\n",
       "Medical_Expenses_Family        int64\n",
       "Medical_Tent                  object\n",
       "City                          object\n",
       "Deceased                       int64\n",
       "dtype: object"
      ]
     },
     "execution_count": 56,
     "metadata": {},
     "output_type": "execute_result"
    }
   ],
   "source": [
    "train_df.dtypes"
   ]
  },
  {
   "cell_type": "markdown",
   "metadata": {},
   "source": [
    "### Numerical Statistics"
   ]
  },
  {
   "cell_type": "code",
   "execution_count": 57,
   "metadata": {},
   "outputs": [
    {
     "data": {
      "text/html": [
       "<div>\n",
       "<style scoped>\n",
       "    .dataframe tbody tr th:only-of-type {\n",
       "        vertical-align: middle;\n",
       "    }\n",
       "\n",
       "    .dataframe tbody tr th {\n",
       "        vertical-align: top;\n",
       "    }\n",
       "\n",
       "    .dataframe thead th {\n",
       "        text-align: right;\n",
       "    }\n",
       "</style>\n",
       "<table border=\"1\" class=\"dataframe\">\n",
       "  <thead>\n",
       "    <tr style=\"text-align: right;\">\n",
       "      <th></th>\n",
       "      <th>count</th>\n",
       "      <th>mean</th>\n",
       "      <th>std</th>\n",
       "      <th>min</th>\n",
       "      <th>25%</th>\n",
       "      <th>50%</th>\n",
       "      <th>75%</th>\n",
       "      <th>max</th>\n",
       "      <th>nulls</th>\n",
       "    </tr>\n",
       "  </thead>\n",
       "  <tbody>\n",
       "    <tr>\n",
       "      <th>Family_Case_ID</th>\n",
       "      <td>900.0</td>\n",
       "      <td>14305.827778</td>\n",
       "      <td>25418.153900</td>\n",
       "      <td>345.0</td>\n",
       "      <td>8203.0</td>\n",
       "      <td>13593.5</td>\n",
       "      <td>18906.50</td>\n",
       "      <td>742836.0</td>\n",
       "      <td>0.0</td>\n",
       "    </tr>\n",
       "    <tr>\n",
       "      <th>Severity</th>\n",
       "      <td>900.0</td>\n",
       "      <td>2.313333</td>\n",
       "      <td>0.834223</td>\n",
       "      <td>1.0</td>\n",
       "      <td>2.0</td>\n",
       "      <td>3.0</td>\n",
       "      <td>3.00</td>\n",
       "      <td>3.0</td>\n",
       "      <td>0.0</td>\n",
       "    </tr>\n",
       "    <tr>\n",
       "      <th>Birthday_year</th>\n",
       "      <td>723.0</td>\n",
       "      <td>1990.266943</td>\n",
       "      <td>14.523335</td>\n",
       "      <td>1940.0</td>\n",
       "      <td>1982.0</td>\n",
       "      <td>1992.0</td>\n",
       "      <td>1999.50</td>\n",
       "      <td>2019.0</td>\n",
       "      <td>177.0</td>\n",
       "    </tr>\n",
       "    <tr>\n",
       "      <th>Parents_Children_Infected</th>\n",
       "      <td>900.0</td>\n",
       "      <td>0.380000</td>\n",
       "      <td>0.803247</td>\n",
       "      <td>0.0</td>\n",
       "      <td>0.0</td>\n",
       "      <td>0.0</td>\n",
       "      <td>0.00</td>\n",
       "      <td>6.0</td>\n",
       "      <td>0.0</td>\n",
       "    </tr>\n",
       "    <tr>\n",
       "      <th>Partner_Siblings_Infected</th>\n",
       "      <td>900.0</td>\n",
       "      <td>0.521111</td>\n",
       "      <td>1.098385</td>\n",
       "      <td>0.0</td>\n",
       "      <td>0.0</td>\n",
       "      <td>0.0</td>\n",
       "      <td>1.00</td>\n",
       "      <td>8.0</td>\n",
       "      <td>0.0</td>\n",
       "    </tr>\n",
       "    <tr>\n",
       "      <th>Medical_Expenses_Family</th>\n",
       "      <td>900.0</td>\n",
       "      <td>895.743333</td>\n",
       "      <td>1385.829926</td>\n",
       "      <td>0.0</td>\n",
       "      <td>221.0</td>\n",
       "      <td>405.0</td>\n",
       "      <td>861.25</td>\n",
       "      <td>14345.0</td>\n",
       "      <td>0.0</td>\n",
       "    </tr>\n",
       "    <tr>\n",
       "      <th>Deceased</th>\n",
       "      <td>900.0</td>\n",
       "      <td>0.614444</td>\n",
       "      <td>0.486997</td>\n",
       "      <td>0.0</td>\n",
       "      <td>0.0</td>\n",
       "      <td>1.0</td>\n",
       "      <td>1.00</td>\n",
       "      <td>1.0</td>\n",
       "      <td>0.0</td>\n",
       "    </tr>\n",
       "  </tbody>\n",
       "</table>\n",
       "</div>"
      ],
      "text/plain": [
       "                           count          mean           std     min     25%  \\\n",
       "Family_Case_ID             900.0  14305.827778  25418.153900   345.0  8203.0   \n",
       "Severity                   900.0      2.313333      0.834223     1.0     2.0   \n",
       "Birthday_year              723.0   1990.266943     14.523335  1940.0  1982.0   \n",
       "Parents_Children_Infected  900.0      0.380000      0.803247     0.0     0.0   \n",
       "Partner_Siblings_Infected  900.0      0.521111      1.098385     0.0     0.0   \n",
       "Medical_Expenses_Family    900.0    895.743333   1385.829926     0.0   221.0   \n",
       "Deceased                   900.0      0.614444      0.486997     0.0     0.0   \n",
       "\n",
       "                               50%       75%       max  nulls  \n",
       "Family_Case_ID             13593.5  18906.50  742836.0    0.0  \n",
       "Severity                       3.0      3.00       3.0    0.0  \n",
       "Birthday_year               1992.0   1999.50    2019.0  177.0  \n",
       "Parents_Children_Infected      0.0      0.00       6.0    0.0  \n",
       "Partner_Siblings_Infected      0.0      1.00       8.0    0.0  \n",
       "Medical_Expenses_Family      405.0    861.25   14345.0    0.0  \n",
       "Deceased                       1.0      1.00       1.0    0.0  "
      ]
     },
     "execution_count": 57,
     "metadata": {},
     "output_type": "execute_result"
    }
   ],
   "source": [
    "descriptive = train_df.describe().T\n",
    "descriptive['nulls'] = train_df.shape[0] - descriptive['count']\n",
    "descriptive"
   ]
  },
  {
   "cell_type": "markdown",
   "metadata": {},
   "source": [
    "**Insights:** \n",
    "- Outliers: Medical_Expenses_Family\n",
    "- Transform Birthday_year in Age"
   ]
  },
  {
   "cell_type": "markdown",
   "metadata": {},
   "source": [
    "### Categorical Statistics"
   ]
  },
  {
   "cell_type": "code",
   "execution_count": 58,
   "metadata": {},
   "outputs": [
    {
     "data": {
      "text/html": [
       "<div>\n",
       "<style scoped>\n",
       "    .dataframe tbody tr th:only-of-type {\n",
       "        vertical-align: middle;\n",
       "    }\n",
       "\n",
       "    .dataframe tbody tr th {\n",
       "        vertical-align: top;\n",
       "    }\n",
       "\n",
       "    .dataframe thead th {\n",
       "        text-align: right;\n",
       "    }\n",
       "</style>\n",
       "<table border=\"1\" class=\"dataframe\">\n",
       "  <thead>\n",
       "    <tr style=\"text-align: right;\">\n",
       "      <th></th>\n",
       "      <th>count</th>\n",
       "      <th>unique</th>\n",
       "      <th>top</th>\n",
       "      <th>freq</th>\n",
       "      <th>nulls</th>\n",
       "    </tr>\n",
       "  </thead>\n",
       "  <tbody>\n",
       "    <tr>\n",
       "      <th>Name</th>\n",
       "      <td>900</td>\n",
       "      <td>899</td>\n",
       "      <td>Mr. Samuel Darnell</td>\n",
       "      <td>2</td>\n",
       "      <td>0</td>\n",
       "    </tr>\n",
       "    <tr>\n",
       "      <th>Medical_Tent</th>\n",
       "      <td>198</td>\n",
       "      <td>8</td>\n",
       "      <td>C</td>\n",
       "      <td>57</td>\n",
       "      <td>702</td>\n",
       "    </tr>\n",
       "    <tr>\n",
       "      <th>City</th>\n",
       "      <td>898</td>\n",
       "      <td>3</td>\n",
       "      <td>Santa Fe</td>\n",
       "      <td>649</td>\n",
       "      <td>2</td>\n",
       "    </tr>\n",
       "  </tbody>\n",
       "</table>\n",
       "</div>"
      ],
      "text/plain": [
       "             count unique                 top freq nulls\n",
       "Name           900    899  Mr. Samuel Darnell    2     0\n",
       "Medical_Tent   198      8                   C   57   702\n",
       "City           898      3            Santa Fe  649     2"
      ]
     },
     "execution_count": 58,
     "metadata": {},
     "output_type": "execute_result"
    }
   ],
   "source": [
    "descriptive = train_df[['Name','Medical_Tent', 'City']].describe().T\n",
    "descriptive['nulls'] = train_df[['Name','Medical_Tent', 'City']].shape[0] - descriptive['count']\n",
    "descriptive"
   ]
  },
  {
   "cell_type": "markdown",
   "metadata": {},
   "source": [
    "**Insights:** Name might not seem valueable, however we can analyze titles to find out features such as gender, married, etc.\n",
    "\n",
    "**Insights:** Maybe the nulls in Medical_Tent mean that they treated the disease at home or the tent is just not know (maybe replace nulls by \"Home\" or \"NotKnow\" and assess its discriminancy according to the target)"
   ]
  },
  {
   "cell_type": "code",
   "execution_count": 59,
   "metadata": {},
   "outputs": [
    {
     "data": {
      "text/plain": [
       "1    565\n",
       "0    177\n",
       "2    158\n",
       "dtype: int64"
      ]
     },
     "execution_count": 59,
     "metadata": {},
     "output_type": "execute_result"
    }
   ],
   "source": [
    "train_df.isna().sum(axis=1).value_counts()"
   ]
  },
  {
   "cell_type": "markdown",
   "metadata": {},
   "source": [
    "### Label Counts"
   ]
  },
  {
   "cell_type": "code",
   "execution_count": 60,
   "metadata": {},
   "outputs": [
    {
     "data": {
      "text/plain": [
       "1    553\n",
       "0    347\n",
       "Name: Deceased, dtype: int64"
      ]
     },
     "execution_count": 60,
     "metadata": {},
     "output_type": "execute_result"
    }
   ],
   "source": [
    "train_df['Deceased'].value_counts()"
   ]
  },
  {
   "cell_type": "markdown",
   "metadata": {},
   "source": [
    "# Data Exploration"
   ]
  },
  {
   "cell_type": "code",
   "execution_count": 61,
   "metadata": {},
   "outputs": [
    {
     "data": {
      "image/png": "[encoded data removed]",
      "text/plain": [
       "<Figure size 576x432 with 1 Axes>"
      ]
     },
     "metadata": {},
     "output_type": "display_data"
    }
   ],
   "source": [
    "# Data leakage by ignoring family relationships? Familiar relationships make that observations in test set might not be independent from ones in the training set.\n",
    "# Candidate for GroupKFold and GroupSplit.\n",
    "sns.set()\n",
    "plt.figure(figsize=(8, 6))\n",
    "train_df[\"Family_Case_ID\"].value_counts().value_counts(ascending=True).plot(kind=\"barh\")\n",
    "plt.title(\"Frequency of size of family\", fontsize=18)\n",
    "plt.show()"
   ]
  },
  {
   "cell_type": "code",
   "execution_count": 62,
   "metadata": {},
   "outputs": [
    {
     "data": {
      "text/html": [
       "<div>\n",
       "<style scoped>\n",
       "    .dataframe tbody tr th:only-of-type {\n",
       "        vertical-align: middle;\n",
       "    }\n",
       "\n",
       "    .dataframe tbody tr th {\n",
       "        vertical-align: top;\n",
       "    }\n",
       "\n",
       "    .dataframe thead th {\n",
       "        text-align: right;\n",
       "    }\n",
       "</style>\n",
       "<table border=\"1\" class=\"dataframe\">\n",
       "  <thead>\n",
       "    <tr style=\"text-align: right;\">\n",
       "      <th></th>\n",
       "      <th>Family_Case_ID</th>\n",
       "      <th>Severity</th>\n",
       "      <th>Name</th>\n",
       "      <th>Birthday_year</th>\n",
       "      <th>Parents_Children_Infected</th>\n",
       "      <th>Partner_Siblings_Infected</th>\n",
       "      <th>Medical_Expenses_Family</th>\n",
       "      <th>Medical_Tent</th>\n",
       "      <th>City</th>\n",
       "      <th>Deceased</th>\n",
       "      <th>Family_size</th>\n",
       "    </tr>\n",
       "    <tr>\n",
       "      <th>Patient_ID</th>\n",
       "      <th></th>\n",
       "      <th></th>\n",
       "      <th></th>\n",
       "      <th></th>\n",
       "      <th></th>\n",
       "      <th></th>\n",
       "      <th></th>\n",
       "      <th></th>\n",
       "      <th></th>\n",
       "      <th></th>\n",
       "      <th></th>\n",
       "    </tr>\n",
       "  </thead>\n",
       "  <tbody>\n",
       "    <tr>\n",
       "      <th>1</th>\n",
       "      <td>4696</td>\n",
       "      <td>3</td>\n",
       "      <td>Miss Linda Betty</td>\n",
       "      <td>NaN</td>\n",
       "      <td>0</td>\n",
       "      <td>0</td>\n",
       "      <td>225</td>\n",
       "      <td>NaN</td>\n",
       "      <td>Santa Fe</td>\n",
       "      <td>1</td>\n",
       "      <td>1</td>\n",
       "    </tr>\n",
       "    <tr>\n",
       "      <th>2</th>\n",
       "      <td>21436</td>\n",
       "      <td>1</td>\n",
       "      <td>Ms. Ramona Elvira</td>\n",
       "      <td>1966.0</td>\n",
       "      <td>0</td>\n",
       "      <td>1</td>\n",
       "      <td>1663</td>\n",
       "      <td>NaN</td>\n",
       "      <td>Albuquerque</td>\n",
       "      <td>0</td>\n",
       "      <td>1</td>\n",
       "    </tr>\n",
       "    <tr>\n",
       "      <th>3</th>\n",
       "      <td>7273</td>\n",
       "      <td>3</td>\n",
       "      <td>Mr. Mario Vernon</td>\n",
       "      <td>1982.0</td>\n",
       "      <td>0</td>\n",
       "      <td>0</td>\n",
       "      <td>221</td>\n",
       "      <td>NaN</td>\n",
       "      <td>Santa Fe</td>\n",
       "      <td>1</td>\n",
       "      <td>1</td>\n",
       "    </tr>\n",
       "    <tr>\n",
       "      <th>4</th>\n",
       "      <td>8226</td>\n",
       "      <td>3</td>\n",
       "      <td>Mr. Hector Joe</td>\n",
       "      <td>1997.0</td>\n",
       "      <td>0</td>\n",
       "      <td>0</td>\n",
       "      <td>220</td>\n",
       "      <td>NaN</td>\n",
       "      <td>Santa Fe</td>\n",
       "      <td>1</td>\n",
       "      <td>1</td>\n",
       "    </tr>\n",
       "    <tr>\n",
       "      <th>5</th>\n",
       "      <td>19689</td>\n",
       "      <td>3</td>\n",
       "      <td>Ms. Jennie Debra</td>\n",
       "      <td>1994.0</td>\n",
       "      <td>0</td>\n",
       "      <td>0</td>\n",
       "      <td>222</td>\n",
       "      <td>NaN</td>\n",
       "      <td>Santa Fe</td>\n",
       "      <td>0</td>\n",
       "      <td>1</td>\n",
       "    </tr>\n",
       "    <tr>\n",
       "      <th>...</th>\n",
       "      <td>...</td>\n",
       "      <td>...</td>\n",
       "      <td>...</td>\n",
       "      <td>...</td>\n",
       "      <td>...</td>\n",
       "      <td>...</td>\n",
       "      <td>...</td>\n",
       "      <td>...</td>\n",
       "      <td>...</td>\n",
       "      <td>...</td>\n",
       "      <td>...</td>\n",
       "    </tr>\n",
       "    <tr>\n",
       "      <th>894</th>\n",
       "      <td>345</td>\n",
       "      <td>2</td>\n",
       "      <td>Mr. Adam Donovan</td>\n",
       "      <td>1958.0</td>\n",
       "      <td>0</td>\n",
       "      <td>0</td>\n",
       "      <td>271</td>\n",
       "      <td>NaN</td>\n",
       "      <td>Taos</td>\n",
       "      <td>1</td>\n",
       "      <td>1</td>\n",
       "    </tr>\n",
       "    <tr>\n",
       "      <th>895</th>\n",
       "      <td>9846</td>\n",
       "      <td>3</td>\n",
       "      <td>Mr. Noel Mcdougall</td>\n",
       "      <td>1993.0</td>\n",
       "      <td>0</td>\n",
       "      <td>0</td>\n",
       "      <td>243</td>\n",
       "      <td>NaN</td>\n",
       "      <td>Santa Fe</td>\n",
       "      <td>1</td>\n",
       "      <td>1</td>\n",
       "    </tr>\n",
       "    <tr>\n",
       "      <th>897</th>\n",
       "      <td>6483</td>\n",
       "      <td>3</td>\n",
       "      <td>Mr. Haiden Vance</td>\n",
       "      <td>2006.0</td>\n",
       "      <td>0</td>\n",
       "      <td>0</td>\n",
       "      <td>258</td>\n",
       "      <td>NaN</td>\n",
       "      <td>Santa Fe</td>\n",
       "      <td>0</td>\n",
       "      <td>1</td>\n",
       "    </tr>\n",
       "    <tr>\n",
       "      <th>898</th>\n",
       "      <td>981</td>\n",
       "      <td>3</td>\n",
       "      <td>Miss Anaiya Love</td>\n",
       "      <td>1990.0</td>\n",
       "      <td>0</td>\n",
       "      <td>0</td>\n",
       "      <td>214</td>\n",
       "      <td>NaN</td>\n",
       "      <td>Taos</td>\n",
       "      <td>1</td>\n",
       "      <td>1</td>\n",
       "    </tr>\n",
       "    <tr>\n",
       "      <th>900</th>\n",
       "      <td>3782</td>\n",
       "      <td>3</td>\n",
       "      <td>Ms. Marjorie Hays</td>\n",
       "      <td>2002.0</td>\n",
       "      <td>0</td>\n",
       "      <td>0</td>\n",
       "      <td>202</td>\n",
       "      <td>C</td>\n",
       "      <td>Albuquerque</td>\n",
       "      <td>0</td>\n",
       "      <td>1</td>\n",
       "    </tr>\n",
       "  </tbody>\n",
       "</table>\n",
       "<p>900 rows × 11 columns</p>\n",
       "</div>"
      ],
      "text/plain": [
       "            Family_Case_ID  Severity                Name  Birthday_year  \\\n",
       "Patient_ID                                                                \n",
       "1                     4696         3    Miss Linda Betty            NaN   \n",
       "2                    21436         1   Ms. Ramona Elvira         1966.0   \n",
       "3                     7273         3    Mr. Mario Vernon         1982.0   \n",
       "4                     8226         3      Mr. Hector Joe         1997.0   \n",
       "5                    19689         3    Ms. Jennie Debra         1994.0   \n",
       "...                    ...       ...                 ...            ...   \n",
       "894                    345         2    Mr. Adam Donovan         1958.0   \n",
       "895                   9846         3  Mr. Noel Mcdougall         1993.0   \n",
       "897                   6483         3    Mr. Haiden Vance         2006.0   \n",
       "898                    981         3    Miss Anaiya Love         1990.0   \n",
       "900                   3782         3   Ms. Marjorie Hays         2002.0   \n",
       "\n",
       "            Parents_Children_Infected  Partner_Siblings_Infected  \\\n",
       "Patient_ID                                                         \n",
       "1                                   0                          0   \n",
       "2                                   0                          1   \n",
       "3                                   0                          0   \n",
       "4                                   0                          0   \n",
       "5                                   0                          0   \n",
       "...                               ...                        ...   \n",
       "894                                 0                          0   \n",
       "895                                 0                          0   \n",
       "897                                 0                          0   \n",
       "898                                 0                          0   \n",
       "900                                 0                          0   \n",
       "\n",
       "            Medical_Expenses_Family Medical_Tent         City  Deceased  \\\n",
       "Patient_ID                                                                \n",
       "1                               225          NaN     Santa Fe         1   \n",
       "2                              1663          NaN  Albuquerque         0   \n",
       "3                               221          NaN     Santa Fe         1   \n",
       "4                               220          NaN     Santa Fe         1   \n",
       "5                               222          NaN     Santa Fe         0   \n",
       "...                             ...          ...          ...       ...   \n",
       "894                             271          NaN         Taos         1   \n",
       "895                             243          NaN     Santa Fe         1   \n",
       "897                             258          NaN     Santa Fe         0   \n",
       "898                             214          NaN         Taos         1   \n",
       "900                             202            C  Albuquerque         0   \n",
       "\n",
       "            Family_size  \n",
       "Patient_ID               \n",
       "1                     1  \n",
       "2                     1  \n",
       "3                     1  \n",
       "4                     1  \n",
       "5                     1  \n",
       "...                 ...  \n",
       "894                   1  \n",
       "895                   1  \n",
       "897                   1  \n",
       "898                   1  \n",
       "900                   1  \n",
       "\n",
       "[900 rows x 11 columns]"
      ]
     },
     "execution_count": 62,
     "metadata": {},
     "output_type": "execute_result"
    }
   ],
   "source": [
    "df_explore = pd.merge(train_df, train_df[\"Family_Case_ID\"].value_counts(), right_index=True, left_on=\"Family_Case_ID\").drop(\"Family_Case_ID_x\", axis=1).rename({\"Family_Case_ID_y\": \"Family_size\"}, axis=1)\n",
    "df_explore"
   ]
  },
  {
   "cell_type": "code",
   "execution_count": 74,
   "metadata": {},
   "outputs": [
    {
     "data": {
      "text/html": [
       "<div>\n",
       "<style scoped>\n",
       "    .dataframe tbody tr th:only-of-type {\n",
       "        vertical-align: middle;\n",
       "    }\n",
       "\n",
       "    .dataframe tbody tr th {\n",
       "        vertical-align: top;\n",
       "    }\n",
       "\n",
       "    .dataframe thead th {\n",
       "        text-align: right;\n",
       "    }\n",
       "</style>\n",
       "<table border=\"1\" class=\"dataframe\">\n",
       "  <thead>\n",
       "    <tr style=\"text-align: right;\">\n",
       "      <th></th>\n",
       "      <th>Severity</th>\n",
       "      <th>Name</th>\n",
       "      <th>Birthday_year</th>\n",
       "      <th>Parents_Children_Infected</th>\n",
       "      <th>Partner_Siblings_Infected</th>\n",
       "      <th>Medical_Expenses_Family</th>\n",
       "      <th>Medical_Tent</th>\n",
       "      <th>City</th>\n",
       "      <th>Deceased</th>\n",
       "      <th>Family_size</th>\n",
       "    </tr>\n",
       "    <tr>\n",
       "      <th>Family_Case_ID</th>\n",
       "      <th></th>\n",
       "      <th></th>\n",
       "      <th></th>\n",
       "      <th></th>\n",
       "      <th></th>\n",
       "      <th></th>\n",
       "      <th></th>\n",
       "      <th></th>\n",
       "      <th></th>\n",
       "      <th></th>\n",
       "    </tr>\n",
       "  </thead>\n",
       "  <tbody>\n",
       "    <tr>\n",
       "      <th>345</th>\n",
       "      <td>1</td>\n",
       "      <td>1</td>\n",
       "      <td>1</td>\n",
       "      <td>1</td>\n",
       "      <td>1</td>\n",
       "      <td>1</td>\n",
       "      <td>0</td>\n",
       "      <td>1</td>\n",
       "      <td>1</td>\n",
       "      <td>1</td>\n",
       "    </tr>\n",
       "    <tr>\n",
       "      <th>981</th>\n",
       "      <td>1</td>\n",
       "      <td>1</td>\n",
       "      <td>1</td>\n",
       "      <td>1</td>\n",
       "      <td>1</td>\n",
       "      <td>1</td>\n",
       "      <td>0</td>\n",
       "      <td>1</td>\n",
       "      <td>1</td>\n",
       "      <td>1</td>\n",
       "    </tr>\n",
       "    <tr>\n",
       "      <th>1773</th>\n",
       "      <td>1</td>\n",
       "      <td>1</td>\n",
       "      <td>1</td>\n",
       "      <td>1</td>\n",
       "      <td>1</td>\n",
       "      <td>1</td>\n",
       "      <td>0</td>\n",
       "      <td>1</td>\n",
       "      <td>1</td>\n",
       "      <td>1</td>\n",
       "    </tr>\n",
       "    <tr>\n",
       "      <th>1794</th>\n",
       "      <td>1</td>\n",
       "      <td>1</td>\n",
       "      <td>1</td>\n",
       "      <td>1</td>\n",
       "      <td>1</td>\n",
       "      <td>1</td>\n",
       "      <td>1</td>\n",
       "      <td>1</td>\n",
       "      <td>1</td>\n",
       "      <td>1</td>\n",
       "    </tr>\n",
       "    <tr>\n",
       "      <th>1816</th>\n",
       "      <td>1</td>\n",
       "      <td>1</td>\n",
       "      <td>1</td>\n",
       "      <td>1</td>\n",
       "      <td>1</td>\n",
       "      <td>1</td>\n",
       "      <td>0</td>\n",
       "      <td>1</td>\n",
       "      <td>1</td>\n",
       "      <td>1</td>\n",
       "    </tr>\n",
       "    <tr>\n",
       "      <th>...</th>\n",
       "      <td>...</td>\n",
       "      <td>...</td>\n",
       "      <td>...</td>\n",
       "      <td>...</td>\n",
       "      <td>...</td>\n",
       "      <td>...</td>\n",
       "      <td>...</td>\n",
       "      <td>...</td>\n",
       "      <td>...</td>\n",
       "      <td>...</td>\n",
       "    </tr>\n",
       "    <tr>\n",
       "      <th>24454</th>\n",
       "      <td>2</td>\n",
       "      <td>2</td>\n",
       "      <td>1</td>\n",
       "      <td>2</td>\n",
       "      <td>2</td>\n",
       "      <td>2</td>\n",
       "      <td>0</td>\n",
       "      <td>2</td>\n",
       "      <td>2</td>\n",
       "      <td>2</td>\n",
       "    </tr>\n",
       "    <tr>\n",
       "      <th>24471</th>\n",
       "      <td>1</td>\n",
       "      <td>1</td>\n",
       "      <td>1</td>\n",
       "      <td>1</td>\n",
       "      <td>1</td>\n",
       "      <td>1</td>\n",
       "      <td>0</td>\n",
       "      <td>1</td>\n",
       "      <td>1</td>\n",
       "      <td>1</td>\n",
       "    </tr>\n",
       "    <tr>\n",
       "      <th>24520</th>\n",
       "      <td>2</td>\n",
       "      <td>2</td>\n",
       "      <td>2</td>\n",
       "      <td>2</td>\n",
       "      <td>2</td>\n",
       "      <td>2</td>\n",
       "      <td>0</td>\n",
       "      <td>2</td>\n",
       "      <td>2</td>\n",
       "      <td>2</td>\n",
       "    </tr>\n",
       "    <tr>\n",
       "      <th>125421</th>\n",
       "      <td>1</td>\n",
       "      <td>1</td>\n",
       "      <td>1</td>\n",
       "      <td>1</td>\n",
       "      <td>1</td>\n",
       "      <td>1</td>\n",
       "      <td>0</td>\n",
       "      <td>1</td>\n",
       "      <td>1</td>\n",
       "      <td>1</td>\n",
       "    </tr>\n",
       "    <tr>\n",
       "      <th>742836</th>\n",
       "      <td>1</td>\n",
       "      <td>1</td>\n",
       "      <td>1</td>\n",
       "      <td>1</td>\n",
       "      <td>1</td>\n",
       "      <td>1</td>\n",
       "      <td>0</td>\n",
       "      <td>1</td>\n",
       "      <td>1</td>\n",
       "      <td>1</td>\n",
       "    </tr>\n",
       "  </tbody>\n",
       "</table>\n",
       "<p>675 rows × 10 columns</p>\n",
       "</div>"
      ],
      "text/plain": [
       "                Severity  Name  Birthday_year  Parents_Children_Infected  \\\n",
       "Family_Case_ID                                                             \n",
       "345                    1     1              1                          1   \n",
       "981                    1     1              1                          1   \n",
       "1773                   1     1              1                          1   \n",
       "1794                   1     1              1                          1   \n",
       "1816                   1     1              1                          1   \n",
       "...                  ...   ...            ...                        ...   \n",
       "24454                  2     2              1                          2   \n",
       "24471                  1     1              1                          1   \n",
       "24520                  2     2              2                          2   \n",
       "125421                 1     1              1                          1   \n",
       "742836                 1     1              1                          1   \n",
       "\n",
       "                Partner_Siblings_Infected  Medical_Expenses_Family  \\\n",
       "Family_Case_ID                                                       \n",
       "345                                     1                        1   \n",
       "981                                     1                        1   \n",
       "1773                                    1                        1   \n",
       "1794                                    1                        1   \n",
       "1816                                    1                        1   \n",
       "...                                   ...                      ...   \n",
       "24454                                   2                        2   \n",
       "24471                                   1                        1   \n",
       "24520                                   2                        2   \n",
       "125421                                  1                        1   \n",
       "742836                                  1                        1   \n",
       "\n",
       "                Medical_Tent  City  Deceased  Family_size  \n",
       "Family_Case_ID                                             \n",
       "345                        0     1         1            1  \n",
       "981                        0     1         1            1  \n",
       "1773                       0     1         1            1  \n",
       "1794                       1     1         1            1  \n",
       "1816                       0     1         1            1  \n",
       "...                      ...   ...       ...          ...  \n",
       "24454                      0     2         2            2  \n",
       "24471                      0     1         1            1  \n",
       "24520                      0     2         2            2  \n",
       "125421                     0     1         1            1  \n",
       "742836                     0     1         1            1  \n",
       "\n",
       "[675 rows x 10 columns]"
      ]
     },
     "execution_count": 74,
     "metadata": {},
     "output_type": "execute_result"
    }
   ],
   "source": [
    "df_explore.groupby(\"Family_Case_ID\").count()"
   ]
  },
  {
   "cell_type": "code",
   "execution_count": 79,
   "metadata": {},
   "outputs": [],
   "source": [
    "# Variable groups\n",
    "lc_c_features = [\"Severity\", \"Medical_Tent\", \"City\"]  # low cardinality and categorical variables\n",
    "metric_features = df_explore.columns.drop(lc_c_features + [\"Family_Case_ID\", \"Name\"]).to_list()  # metric variables"
   ]
  },
  {
   "cell_type": "code",
   "execution_count": 81,
   "metadata": {},
   "outputs": [
    {
     "data": {
      "image/png": "[encoded data removed]",
      "text/plain": [
       "<Figure size 774.675x720 with 20 Axes>"
      ]
     },
     "metadata": {},
     "output_type": "display_data"
    }
   ],
   "source": [
    "# data to plot\n",
    "plot_df = pd.concat([df_explore[metric_features], df_explore.Deceased], axis=1)\n",
    "\n",
    "sns.set()\n",
    "\n",
    "# Setting pairgrid\n",
    "g = sns.pairplot(plot_df, hue=\"Deceased\", diag_kind=\"hist\")\n",
    "\n",
    "# Layout\n",
    "plt.subplots_adjust(top=0.9)\n",
    "plt.suptitle(\"Pairwise relationship of metric variables by 'Deceased'\", fontsize=20)\n",
    "\n",
    "plt.show()"
   ]
  },
  {
   "cell_type": "code",
   "execution_count": 82,
   "metadata": {},
   "outputs": [
    {
     "data": {
      "image/png": "[encoded data removed]",
      "text/plain": [
       "<Figure size 864x432 with 4 Axes>"
      ]
     },
     "metadata": {},
     "output_type": "display_data"
    }
   ],
   "source": [
    "sns.set()\n",
    "\n",
    "# data to plot\n",
    "plot_df = pd.concat([df_explore[metric_features], df_explore.Deceased], axis=1)\n",
    "plot_features = metric_features\n",
    "\n",
    "# Prepare figure\n",
    "fig, axes = plt.subplots(1, len(plot_features), figsize=(12,6), constrained_layout=True)\n",
    "    \n",
    "# Plot data\n",
    "for ax, f in zip(axes.flatten(), plot_features):\n",
    "    sns.boxplot(y=f, data=plot_df, ax=ax, x='Deceased')\n",
    "\n",
    "# Layout\n",
    "plt.suptitle(\"Numeric variables' box plots by 'Deceased'\", fontsize=20)\n",
    "\n",
    "plt.show()"
   ]
  },
  {
   "cell_type": "code",
   "execution_count": 83,
   "metadata": {},
   "outputs": [
    {
     "data": {
      "image/png": "[encoded data removed]",
      "text/plain": [
       "<Figure size 1440x720 with 6 Axes>"
      ]
     },
     "metadata": {},
     "output_type": "display_data"
    }
   ],
   "source": [
    "sns.set()\n",
    "\n",
    "# data to plot\n",
    "plot_df = pd.concat([df_explore[lc_c_features + [\"Parents_Children_Infected\", \"Partner_Siblings_Infected\"]], df_explore.Deceased], axis=1)\n",
    "plot_features = [\"Deceased\", \"Parents_Children_Infected\", \"Partner_Siblings_Infected\"] + lc_c_features\n",
    "\n",
    "# figure and axes\n",
    "fig, axes = plt.subplots(2, ceil(len(plot_features)/2), figsize=(20,10))\n",
    "\n",
    "# plot data\n",
    "for ax, x in zip(axes.flatten(), plot_features):\n",
    "    if x == \"Deceased\":\n",
    "        sns.countplot(x=x, hue=\"Deceased\", order=[0, 1], data=plot_df, ax=ax)\n",
    "    else:\n",
    "        sns.countplot(x=x, hue=\"Deceased\", data=plot_df, ax=ax)\n",
    "    ax.get_legend().remove()\n",
    "    \n",
    "# Set legend (IsCanceled)\n",
    "handles, _ = axes[0, 0].get_legend_handles_labels()\n",
    "fig.legend(handles, [\"non-deceased\", \"deceased\"], loc=(0.07,0.91), title=\"Deceased\", title_fontsize=12)\n",
    "\n",
    "plt.subplots_adjust(wspace=0.25)\n",
    "plt.suptitle(\"Categorical/ Low Cardinality variables' absolute frequencies by 'Deceased'\", y=0.95, fontsize=20)\n",
    "\n",
    "plt.show()"
   ]
  },
  {
   "cell_type": "code",
   "execution_count": 84,
   "metadata": {},
   "outputs": [
    {
     "data": {
      "image/png": "[encoded data removed]",
      "text/plain": [
       "<Figure size 720x576 with 2 Axes>"
      ]
     },
     "metadata": {},
     "output_type": "display_data"
    }
   ],
   "source": [
    "sns.set(style=\"white\")\n",
    "\n",
    "# Compute the correlation matrix\n",
    "corr = pd.concat([df_explore[metric_features], df_explore.Deceased], axis=1).corr() #Getting correlation of numerical variables\n",
    "\n",
    "# Set up the matplotlib figure\n",
    "fig, ax = plt.subplots(figsize=(10, 8))\n",
    "\n",
    "# Generate a custom diverging colormap\n",
    "cmap = sns.diverging_palette(220, 10, as_cmap=True) #Make a diverging palette between two HUSL colors. Return a matplotlib colormap object.\n",
    "\n",
    "# # Pass 2D Numpy array to annot parameter\n",
    "# mask_annot = np.absolute(corr.values)>=0.50 # Annotate correlations above abs(0.5)\n",
    "# annot_arr = np.where(mask_annot, corr.values.round(2), np.full(corr.shape,\"\"))\n",
    "\n",
    "# Draw the heatmap with the mask and correct aspect ratio\n",
    "sns.heatmap(corr, cmap=cmap, center=0, square=True, linewidths=.5, annot=corr, ax=ax)\n",
    "\n",
    "# Layout\n",
    "plt.subplots_adjust(top=0.95)\n",
    "plt.suptitle(\"Correlation matrix\", fontsize=20)\n",
    "plt.yticks(rotation=0)\n",
    "# Fixing the bug of partially cut-off bottom and top cells\n",
    "b, t = plt.ylim() # discover the values for bottom and top\n",
    "b += 0.5 # Add 0.5 to the bottom\n",
    "t -= 0.5 # Subtract 0.5 from the top\n",
    "plt.ylim(b, t) # update the ylim(bottom, top) values\n",
    "\n",
    "plt.show()"
   ]
  },
  {
   "cell_type": "markdown",
   "metadata": {},
   "source": [
    "## Takeaways\n",
    "- *Univariate outliters*: Medical_Expenses_Family, Parents_Children_Infected (should we keep values above 2?), Partner_Siblings_Infected (should we keep values above 2?).\n",
    "- *Bivariate outliers*: There might be some by visualizing the bivariate scatter plots. Multivariate outlier detection could be applied.\n",
    "- *High cardinality*: Medical_tent (there are some values with low presence)\n",
    "- *Data leakage*: There is some potential for data leakage because of Family_Case_ID variable. Transform it to avoid this issue or do appropriate splits."
   ]
  },
  {
   "cell_type": "markdown",
   "metadata": {},
   "source": [
    "# Data Cleaning\n",
    "In this section we will clean our data using a copy of our train data. After having decided on some preprocessing steps (e.g. missing value imputer, scalling) we will integrate them in the pipeline and tune their parameters with grid-search."
   ]
  },
  {
   "cell_type": "markdown",
   "metadata": {},
   "source": [
    "## Outliers"
   ]
  },
  {
   "cell_type": "code",
   "execution_count": null,
   "metadata": {},
   "outputs": [],
   "source": [
    "# Visual outlier removal\n",
    "# LocalOutlierFactor"
   ]
  },
  {
   "cell_type": "markdown",
   "metadata": {},
   "source": [
    "## Missing Values\n",
    "There are 3 variables that we have to treat regarding missing values. They are Birthday_year, Medical_Tent and City."
   ]
  },
  {
   "cell_type": "code",
   "execution_count": 64,
   "metadata": {},
   "outputs": [
    {
     "data": {
      "text/plain": [
       "Family_Case_ID                 0\n",
       "Severity                       0\n",
       "Name                           0\n",
       "Birthday_year                177\n",
       "Parents_Children_Infected      0\n",
       "Partner_Siblings_Infected      0\n",
       "Medical_Expenses_Family        0\n",
       "Medical_Tent                 702\n",
       "City                           2\n",
       "Deceased                       0\n",
       "dtype: int64"
      ]
     },
     "execution_count": 64,
     "metadata": {},
     "output_type": "execute_result"
    }
   ],
   "source": [
    "train_df.isnull().sum()"
   ]
  },
  {
   "cell_type": "markdown",
   "metadata": {},
   "source": [
    "There are only 2 null values in City so we decided to replace them with the mode, Santa Fe, that stands for the city of 72% of the patients."
   ]
  },
  {
   "cell_type": "code",
   "execution_count": 68,
   "metadata": {},
   "outputs": [
    {
     "name": "stdout",
     "output_type": "stream",
     "text": [
      "Santa Fe       651\n",
      "Albuquerque    169\n",
      "Taos            80\n",
      "Name: City, dtype: int64\n"
     ]
    }
   ],
   "source": [
    "print(train_df.City.value_counts())\n",
    "train_df.City = train_df.City.fillna(value=\"Santa Fe\")"
   ]
  },
  {
   "cell_type": "markdown",
   "metadata": {},
   "source": [
    "78% of the observations have no value in Medical_Tent. The first thought is dropping the variable but on a second thought, the nulls in Medical_Tent may mean that they treated the disease at home. Or maybe the tent is just not know, we would have to ask the data owner to be sure, but for now we will replace the null values for \"Not Known\" and then assess the variable discriminating power according to the target."
   ]
  },
  {
   "cell_type": "code",
   "execution_count": 71,
   "metadata": {},
   "outputs": [],
   "source": [
    "train_df.Medical_Tent = train_df.Medical_Tent.fillna(value=\"Not Known\")"
   ]
  },
  {
   "cell_type": "code",
   "execution_count": 73,
   "metadata": {},
   "outputs": [
    {
     "data": {
      "image/png": "[encoded data removed]",
      "text/plain": [
       "<Figure size 432x288 with 1 Axes>"
      ]
     },
     "metadata": {},
     "output_type": "display_data"
    }
   ],
   "source": [
    "sns.set()\n",
    "sns.countplot(x=\"Medical_Tent\", hue=\"Deceased\", data=train_df)\n",
    "plt.show()"
   ]
  },
  {
   "cell_type": "code",
   "execution_count": null,
   "metadata": {},
   "outputs": [],
   "source": []
  },
  {
   "cell_type": "code",
   "execution_count": 32,
   "metadata": {},
   "outputs": [
    {
     "data": {
      "text/plain": [
       "Family_Case_ID                 0\n",
       "Severity                       0\n",
       "Name                           0\n",
       "Birthday_year                 82\n",
       "Parents_Children_Infected      0\n",
       "Partner_Siblings_Infected      0\n",
       "Medical_Expenses_Family        0\n",
       "Medical_Tent                 311\n",
       "City                           0\n",
       "dtype: int64"
      ]
     },
     "execution_count": 32,
     "metadata": {},
     "output_type": "execute_result"
    }
   ],
   "source": [
    "test_df.isnull().sum()"
   ]
  },
  {
   "cell_type": "code",
   "execution_count": 35,
   "metadata": {},
   "outputs": [
    {
     "data": {
      "text/plain": [
       "(400, 9)"
      ]
     },
     "execution_count": 35,
     "metadata": {},
     "output_type": "execute_result"
    }
   ],
   "source": [
    "test_df.shape"
   ]
  },
  {
   "cell_type": "code",
   "execution_count": 33,
   "metadata": {},
   "outputs": [
    {
     "data": {
      "text/plain": [
       "1    565\n",
       "0    177\n",
       "2    158\n",
       "dtype: int64"
      ]
     },
     "execution_count": 33,
     "metadata": {},
     "output_type": "execute_result"
    }
   ],
   "source": [
    "train_df.isna().sum(axis=1).value_counts()"
   ]
  },
  {
   "cell_type": "markdown",
   "metadata": {},
   "source": []
  },
  {
   "cell_type": "code",
   "execution_count": null,
   "metadata": {},
   "outputs": [],
   "source": [
    "# KNNImputer or IterativeImputer\n",
    "# Impute cabin values with NK (not known) tag. too much to try to estimate. other option could be to eliminate but I would build the variable and then let the model decide."
   ]
  },
  {
   "cell_type": "markdown",
   "metadata": {},
   "source": [
    "## Feature Engineering"
   ]
  },
  {
   "cell_type": "code",
   "execution_count": null,
   "metadata": {},
   "outputs": [],
   "source": [
    "# Solve some issues with existing features (e.g. high cardinality)\n",
    "# Family_Case_ID is promissing to find out relevant familiar relationships (e.g. if some familiar died or not)\n",
    "# We can analyze Name and obtain Title and Gender and Married\n",
    "# Age instead of Birth_year\n",
    "# Family infected (sum of parent or children and partner or siblings)"
   ]
  },
  {
   "cell_type": "markdown",
   "metadata": {},
   "source": [
    "## Assessment"
   ]
  },
  {
   "cell_type": "code",
   "execution_count": null,
   "metadata": {},
   "outputs": [],
   "source": [
    "# Assess preprocessed data using visualizations. Check if problems are solved and if features are useful"
   ]
  },
  {
   "cell_type": "markdown",
   "metadata": {},
   "source": [
    "## Preprocessed data"
   ]
  },
  {
   "cell_type": "code",
   "execution_count": null,
   "metadata": {},
   "outputs": [],
   "source": [
    "# ensure all the data (train and test) is prepared for modelling (even though we will apply some preprocessing steps in the pipeline ahead, \n",
    "#     there are some stuff we need to do previously like ensure every dataset has all the features required)."
   ]
  },
  {
   "cell_type": "markdown",
   "metadata": {},
   "source": [
    "# Modelling\n",
    "In this section we will build our sklearn Pipeline and use it to find out the best hyperparameters according to the model accuracy. We will also use it to select the most appropriate classifier algorithm and do model comparision."
   ]
  },
  {
   "cell_type": "code",
   "execution_count": null,
   "metadata": {},
   "outputs": [],
   "source": [
    "# Saving parameter grid for specific Grid Search run\n",
    "class ComplexEncoder(json.JSONEncoder):  # This class is used to save the instance objects belonging to a grid as strings\n",
    "    def default(self, obj):\n",
    "        if isinstance(obj, (StandardScaler, MinMaxScaler, SelectFromModel, LogisticRegression, KNeighborsClassifier, GaussianNB, np.ndarray, NeighborhoodComponentsAnalysis, dict)):  # Include all classes that aren't serializable here\n",
    "            return str(obj)\n",
    "        # Let the base class default method raise the TypeError \n",
    "        return json.JSONEncoder.default(self, obj)\n",
    "    \n",
    "\n",
    "def gs_outputs(id_num, gscv_fitted, grid):\n",
    "    \"\"\"\n",
    "    Function that saves information of each grid-search.\n",
    "    \n",
    "    id_num: takes an id_number which identifies the grid-search\n",
    "    gscv_fitted: takes a fitted GridSearchCV object\n",
    "    grid: takes the grid used to fit the GridSearchCV object\n",
    "    \n",
    "    Returns:\n",
    "    top 20 configurations hyper-parameter presence graphic\n",
    "    (also outputs the \"logs\" of each grid-search to the output directory)\n",
    "    \"\"\"\n",
    "    \n",
    "    # Saving parameter grid for specific Grid Search run\n",
    "    with open(\"./outputs/grids.txt\", \"a\") as file:\n",
    "        file.write(\"# {}------------------------------------------------------ #\\n\".format(id_num) + json.dumps(grid, cls=ComplexEncoder) + \"\\n\\n\")\n",
    "\n",
    "    # Saving cv_results for specific Grid Search run\n",
    "    score_summary = pd.DataFrame(gscv_fitted.cv_results_).sort_values(by=\"mean_test_score\", ascending=False)\n",
    "    score_summary.to_csv(\"./outputs/grid_search_results{}.csv\".format(id_num))\n",
    "    \n",
    "    # Assessing distribution of hyper-parameter values amongst top 20 models\n",
    "    sns.set()\n",
    "\n",
    "    # Features to plot\n",
    "    plot_features = list(map(lambda x: \"param_\" + x, {i for j in range(len(grid)) for i in grid[j].keys()}))\n",
    "    plot_df = score_summary.reset_index(drop=True).loc[:19, :].fillna(\"NaN\")\n",
    "\n",
    "    # figure and axes\n",
    "    fig, axes = plt.subplots(3, ceil(len(plot_features)/3), figsize=(23,13))\n",
    "\n",
    "    # plot data\n",
    "    for ax, x in zip(axes.flatten(), plot_features):\n",
    "        try:\n",
    "            sns.countplot(x=x, data=plot_df, ax=ax)\n",
    "        except TypeError:\n",
    "            sns.countplot(x=plot_df[x].apply(json.dumps), ax=ax)\n",
    "\n",
    "    plt.suptitle(\"Hyper-parameter presence on top 20 models\", y=0.95, fontsize=25)\n",
    "\n",
    "    plt.savefig(\"./outputs/grid_results{}.png\".format(id_num))\n",
    "    \n",
    "    # Model training - using best parameters to train model on entire data for submission\n",
    "    best_model = full_pipeline.set_params(**gscv_fitted.best_params_)\n",
    "    best_model.fit(X, y)  # Using all of the data to fit the model\n",
    "\n",
    "    # Predicting the \n",
    "    y_pred = best_model.predict(test_df)\n",
    "\n",
    "    # Submission\n",
    "    pd.DataFrame(data={\"Employee_ID\": test_df.index.to_list(), \"Churn_risk\": y_pred}).to_csv(\"./outputs/submission{}.csv\".format(id_num), index=False)\n",
    "    \n",
    "    return plt.show()"
   ]
  },
  {
   "cell_type": "code",
   "execution_count": null,
   "metadata": {},
   "outputs": [],
   "source": [
    "# Categrical features to pass down the categorical pipeline \n",
    "categorical_features = []  # COMPLETE\n",
    "\n",
    "# Numerical features to pass down the numerical pipeline \n",
    "metric_features = X_train.columns.drop(categorical_features).to_list()\n",
    "\n",
    "# Defining the steps in the categorical pipeline \n",
    "categorical_pipeline = Pipeline(steps=[('impute_mode', SimpleImputer(strategy=\"most_frequent\")),\n",
    "                                       ('one_hot_encoder', OneHotEncoder(sparse=False))])\n",
    "\n",
    "# Defining the steps in the numerical pipeline     \n",
    "std, minmax = StandardScaler(), MinMaxScaler()\n",
    "\n",
    "# Combining numerical and categorical pipeline into one full big pipeline horizontally \n",
    "join_pipeline = ColumnTransformer(transformers=[('numerical_pipeline', \"passthrough\", metric_features),  # we will find out what's the best scaler in GS\n",
    "                                                 ('categorical_pipeline', categorical_pipeline, categorical_features)])\n",
    "\n",
    "# Imputing Missing values with normalized and one hot encoded data\n",
    "imputer = KNNImputer()\n",
    "\n",
    "# Finally, we will impute NaNs with KNNImputer and build our preprocessing pipeline\n",
    "prep_pipeline = Pipeline(steps=[(\"join_features\", join_pipeline),\n",
    "                                (\"imputer\", imputer)])\n",
    "\n",
    "# Feature Selection\n",
    "fselect1 = SelectFromModel(LogisticRegression(penalty=\"l1\", max_iter=400, multi_class=\"multinomial\", solver=\"saga\", n_jobs=-1, random_state=1))  # tune: estimator__C\n",
    "fselect2 = NeighborhoodComponentsAnalysis(max_iter=25, tol=0.005, random_state=1)  # tune: n_components, tol=0.005 (it takes to long)\n",
    "fselect3 = SelectFromModel(LogisticRegression(penalty=\"l2\", max_iter=400,  multi_class=\"multinomial\", solver=\"saga\", n_jobs=-1, random_state=1))  # tune: estimator__C, threshold\n",
    "\n",
    "# Model\n",
    "lr = LogisticRegression(max_iter=400, multi_class=\"multinomial\", n_jobs=-1, random_state=1)  # tune: penalty=['elasticnet'], l1_ratio=[0.2, 0.5, 0.8], C=[10.0 ** np.arange(-4, 2)], tol=[10.0 ** np.arange(-5, 0)], class_weight=['balanced', None], solver=['newton-cg', 'sag', 'saga' and 'lbfgs']\n",
    "\n",
    "knn = KNeighborsClassifier(n_jobs=-1)  # tune: n_neighbors, weights, metric\n",
    "\n",
    "# gnb = GaussianNB()\n",
    "\n",
    "# Full pipeline with model\n",
    "full_pipeline = Pipeline(steps=[(\"prep\", prep_pipeline),  # 15 features outputed\n",
    "                                (\"fselect1\", \"passthrough\"),\n",
    "                                (\"fselect2\", \"passthrough\"),\n",
    "                                (\"model\", \"passthrough\")])\n",
    "\n",
    "grid = [  # COMPLETE\n",
    "    {\n",
    "        \n",
    "    },\n",
    "    {\n",
    "        \n",
    "    }\n",
    "]"
   ]
  },
  {
   "cell_type": "code",
   "execution_count": null,
   "metadata": {},
   "outputs": [],
   "source": [
    "# Instatiating GridSearch\n",
    "gscv = GridSearchCV(full_pipeline, grid, cv=StratifiedKFold(n_splits=3, shuffle=True, random_state=1), scoring='f1_micro', verbose=1, n_jobs=-1)"
   ]
  },
  {
   "cell_type": "code",
   "execution_count": null,
   "metadata": {},
   "outputs": [],
   "source": [
    "# Get ID of grid search\n",
    "id_num = input(\"Insert GridSearch ID number: \")\n",
    "\n",
    "# Grid Search and model training\n",
    "gscv.fit(X_train, y_train)\n",
    "\n",
    "# Obtain outputs from Grid Search\n",
    "gs_outputs(id_num, gscv, grid)"
   ]
  },
  {
   "cell_type": "code",
   "execution_count": null,
   "metadata": {},
   "outputs": [],
   "source": [
    "# Model training - using best parameters to train model on entire training set\n",
    "best_params = gscv.best_params_\n",
    "best_model = full_pipeline.set_params(**best_params)\n",
    "best_model.fit(X_train, y_train)\n",
    "\n",
    "# Model assessment\n",
    "y_train_pred = best_model.predict(X_train)\n",
    "y_test_pred = best_model.predict(X_test)\n",
    "print(\"TRAIN set F1-score(micro) is: {:.3f}\\nTEST set F1-score(micro) is: {:.3f}\".format(f1_score(y_train, y_train_pred, average='micro'), f1_score(y_test, y_test_pred, average='micro')))"
   ]
  },
  {
   "cell_type": "markdown",
   "metadata": {},
   "source": [
    "# References\n",
    "### Model selection and evaluation\n",
    "- https://scikit-learn.org/stable/auto_examples/model_selection/plot_nested_cross_validation_iris.html\n",
    "- https://weina.me/nested-cross-validation/\n",
    "- https://chrisalbon.com/machine_learning/model_evaluation/nested_cross_validation/\n",
    "- https://www.elderresearch.com/blog/nested-cross-validation\n",
    "- https://stats.stackexchange.com/questions/65128/nested-cross-validation-for-model-selection\n",
    "- https://scikit-learn.org/stable/modules/cross_validation.html\n",
    "- On Over-fitting in Model Selection and Subsequent Selection Bias in Performance Evaluation, Gavin C. Cawley, Nicola L. C. Talbot\n",
    "\n",
    "### Topic here\n",
    "- "
   ]
  }
 ],
 "metadata": {
  "kernelspec": {
   "display_name": "Python 3.7.0 64-bit",
   "language": "python",
   "name": "python37064bit30b19cd67bea455285d95a961249bf53"
  },
  "language_info": {
   "codemirror_mode": {
    "name": "ipython",
    "version": 3
   },
   "file_extension": ".py",
   "mimetype": "text/x-python",
   "name": "python",
   "nbconvert_exporter": "python",
   "pygments_lexer": "ipython3",
   "version": "3.7.0"
  }
 },
 "nbformat": 4,
 "nbformat_minor": 4
}
