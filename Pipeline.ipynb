{
 "cells": [
  {
   "cell_type": "code",
   "execution_count": null,
   "metadata": {},
   "outputs": [],
   "source": [
    "import zipfile as zp\n",
    "from math import ceil\n",
    "import pandas as pd\n",
    "import numpy as np\n",
    "import matplotlib.pyplot as plt\n",
    "import seaborn as sns\n",
    "from scipy.stats import boxcox\n",
    "from sklearn.preprocessing import OneHotEncoder, StandardScaler, MinMaxScaler\n",
    "from sklearn.impute import SimpleImputer, KNNImputer\n",
    "from sklearn.linear_model import LogisticRegression\n",
    "from sklearn.neighbors import KNeighborsClassifier, NeighborhoodComponentsAnalysis\n",
    "from sklearn.naive_bayes import GaussianNB\n",
    "from sklearn.pipeline import Pipeline\n",
    "from sklearn.compose import ColumnTransformer\n",
    "from sklearn.model_selection import train_test_split, StratifiedKFold, GridSearchCV, cross_val_score, GroupShuffleSplit\n",
    "from sklearn.metrics import classification_report, confusion_matrix\n",
    "import warnings\n",
    "warnings.filterwarnings(\"ignore\")"
   ]
  },
  {
   "cell_type": "code",
   "execution_count": null,
   "metadata": {},
   "outputs": [],
   "source": [
    "df_list = []\n",
    "for file in [\"train.csv\", \"test.csv\"]:\n",
    "    with zp.ZipFile(\"./data.zip\") as myzip:\n",
    "        with myzip.open(file) as myfile:\n",
    "            df_list.append(pd.read_csv(myfile))\n",
    "            \n",
    "train_df, test_df = df_list"
   ]
  },
  {
   "cell_type": "code",
   "execution_count": null,
   "metadata": {},
   "outputs": [],
   "source": [
    "# Correcting variables\n",
    "train_df.rename({\"Parents or siblings infected\": \"Parents_Children_Infected\", \n",
    "                 \"Wife/Husband or children infected\": \"Partner_Siblings_Infected\"}, axis=1, inplace=True)\n",
    "test_df.rename({\"Parents or siblings infected\": \"Parents_Children_Infected\", \n",
    "                \"Wife/Husband or children infected\": \"Partner_Siblings_Infected\"}, axis=1, inplace=True)"
   ]
  },
  {
   "cell_type": "code",
   "execution_count": null,
   "metadata": {},
   "outputs": [],
   "source": [
    "train_df.set_index(\"Patient_ID\", inplace=True)\n",
    "test_df.set_index(\"Patient_ID\", inplace=True)"
   ]
  },
  {
   "cell_type": "code",
   "execution_count": null,
   "metadata": {},
   "outputs": [],
   "source": [
    "X_train.City.fillna(value=\"Santa Fe\", inplace=True)"
   ]
  },
  {
   "cell_type": "code",
   "execution_count": null,
   "metadata": {},
   "outputs": [],
   "source": [
    "X_train.Medical_Tent = X_train.Medical_Tent.fillna(value=\"NK\")\n",
    "test_df.Medical_Tent = test_df.Medical_Tent.fillna(value=\"NK\")"
   ]
  },
  {
   "cell_type": "code",
   "execution_count": null,
   "metadata": {},
   "outputs": [],
   "source": [
    "X_train['Title'] = X_train['Name'].str.split('\\\\W', 1, expand=True)[0]\n",
    "test_df['Title'] = test_df['Name'].str.split('\\\\W', 1, expand=True)[0]"
   ]
  },
  {
   "cell_type": "code",
   "execution_count": null,
   "metadata": {},
   "outputs": [],
   "source": [
    "X_train['Title_binary'] = X_train['Title'].apply(lambda x: 1 if x in [\"Master\",\"Miss\"] else 0)\n",
    "test_df['Title_binary'] = test_df['Title'].apply(lambda x: 1 if x in [\"Master\",\"Miss\"] else 0)"
   ]
  },
  {
   "cell_type": "code",
   "execution_count": null,
   "metadata": {},
   "outputs": [],
   "source": [
    "def scale_function(X_data, columns_to_norm, columns_not_norm, scaler_type, scaler=None):\n",
    "    '''Function to apply normalization'''\n",
    "    \n",
    "    if scaler_type=='MinMaxScaler':\n",
    "        if scaler is None:\n",
    "            scaler = MinMaxScaler().fit(X_data[columns_to_norm])\n",
    "        X_scaled = scaler.transform(X_data[columns_to_norm])\n",
    "        \n",
    "    else:\n",
    "        if scaler is None:\n",
    "            scaler = StandardScaler().fit(X_data[columns_to_norm])\n",
    "        X_scaled = scaler.transform(X_data[columns_to_norm])\n",
    "        \n",
    "    X = np.append(X_data[columns_not_norm], X_scaled, axis=1)\n",
    "    X = pd.DataFrame(X, columns = columns_not_norm+columns_to_norm)\n",
    "\n",
    "    return X, scaler"
   ]
  },
  {
   "cell_type": "code",
   "execution_count": null,
   "metadata": {},
   "outputs": [],
   "source": [
    "scaler_type=\"MinMaxScaler\""
   ]
  },
  {
   "cell_type": "code",
   "execution_count": null,
   "metadata": {},
   "outputs": [],
   "source": [
    "def knn_imputer_birthday(X_train, test, scaler_type):\n",
    "    cols_drop = ['Family_Case_ID','Name','Medical_Expenses_Family','Medical_Tent','City']\n",
    "    columns_to_norm = ['Severity','Parents_Children_Infected','Partner_Siblings_Infected']\n",
    "    columns_not_norm=['Birthday_year','Title_binary']\n",
    "    \n",
    "    X_use = X_train.copy()\n",
    "    X_test = test.copy()\n",
    "    \n",
    "    fill_birthday_train, scaler = scale_function(X_use.drop(columns=cols_drop), columns_to_norm=columns_to_norm,\n",
    "                                                 columns_not_norm=columns_not_norm, scaler_type=scaler_type)\n",
    "    fill_birthday_test, scaler = scale_function(X_test.drop(columns=cols_drop), columns_to_norm=columns_to_norm,\n",
    "                                                 columns_not_norm=columns_not_norm, scaler_type=scaler_type)\n",
    "    \n",
    "    imputer = KNNImputer(n_neighbors=3, weights='distance').fit(fill_birthday_train)\n",
    "    \n",
    "    X_imputted_birthday_train = imputer.transform(fill_birthday_train)\n",
    "    X_imputted_birthday_test = imputer.transform(fill_birthday_test)\n",
    "    \n",
    "    X_use.Birthday_year = list(pd.DataFrame(X_imputted_birthday_train).iloc[:,0]) # 0 is the index of Birthday_year\n",
    "    X_test.Birthday_year = list(pd.DataFrame(X_imputted_birthday_test).iloc[:,0]) # 0 is the index of Birthday_year\n",
    "    \n",
    "    return X_use, X_test"
   ]
  },
  {
   "cell_type": "code",
   "execution_count": null,
   "metadata": {},
   "outputs": [],
   "source": [
    "X_train, test_df = knn_imputer_birthday(X_train, test_df, scaler_type=scaler_type)"
   ]
  },
  {
   "cell_type": "code",
   "execution_count": null,
   "metadata": {},
   "outputs": [],
   "source": [
    "X_train.Birthday_year = X_train.Birthday_year.round(0).astype(int)\n",
    "test_df.Birthday_year = test_df.Birthday_year.round(0).astype(int)"
   ]
  },
  {
   "cell_type": "code",
   "execution_count": null,
   "metadata": {},
   "outputs": [],
   "source": []
  }
 ],
 "metadata": {
  "kernelspec": {
   "display_name": "Python 3",
   "language": "python",
   "name": "python3"
  },
  "language_info": {
   "codemirror_mode": {
    "name": "ipython",
    "version": 3
   },
   "file_extension": ".py",
   "mimetype": "text/x-python",
   "name": "python",
   "nbconvert_exporter": "python",
   "pygments_lexer": "ipython3",
   "version": "3.7.3"
  }
 },
 "nbformat": 4,
 "nbformat_minor": 4
}
